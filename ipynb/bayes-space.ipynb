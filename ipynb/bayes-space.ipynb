{
 "cells": [
  {
   "cell_type": "markdown",
   "metadata": {},
   "source": [
    "Goal : confirm if the DM connection to the Multinomial logistic normal holds\n",
    "\n",
    "Two MC models\n",
    "1. Sample from DM and evaluate ratio of LN to Dir for each sample\n",
    "2. Sample from LN and evaluate MLN"
   ]
  },
  {
   "cell_type": "code",
   "execution_count": 1,
   "metadata": {},
   "outputs": [],
   "source": [
    "import numpy as np\n",
    "from scipy.stats import multinomial, dirichlet, multivariate_normal\n",
    "import matplotlib.pyplot as plt\n",
    "import seaborn as sns\n",
    "from skbio.stats.composition import ilr_inv, ilr, closure\n",
    "%matplotlib inline"
   ]
  },
  {
   "cell_type": "code",
   "execution_count": 2,
   "metadata": {},
   "outputs": [],
   "source": [
    "from scipy.stats._multivariate import _PSD\n",
    "\n",
    "_LOG_2PI = np.log(2 * np.pi)\n",
    "\n",
    "def sample_dirichlet_multinomial(alpha, n, samples=10):\n",
    "    dir_ = dirichlet(alpha)\n",
    "    dx = dir_.rvs(samples)\n",
    "    mx = np.vstack([np.random.multinomial(n[i], dx[i]) for i in range(dx.shape[0])])\n",
    "    return mx\n",
    "\n",
    "def sample_dirichlet(alpha, samples=10):\n",
    "    dir_ = dirichlet(alpha)\n",
    "    dx = dir_.rvs(samples)\n",
    "    return dx\n",
    "\n",
    "def sample_logistic_normal(mean, cov, samples=10):\n",
    "    mvn_ = multivariate_normal(mean, cov)\n",
    "    mx = mvn_.rvs(samples)\n",
    "    return ilr_inv(mx)\n",
    "\n",
    "def multinomial_logpdf(x, n, p):\n",
    "    return np.vstack([multinomial(n[i], p[i]).logpmf(x[i]) for i in range(x.shape[0])])\n",
    "\n",
    "def multinomial_likelihood(x, n, p):\n",
    "    return np.mean(multinomial_logpdf(x, n, p))\n",
    "\n",
    "def logistic_normal_likelihood(x, mean, cov):\n",
    "    mvn_ = multivariate_normal(mean, cov)\n",
    "    y = ilr(x)\n",
    "    return np.mean(mvn_.logpdf(y))\n",
    "\n",
    "def dirichlet_likelihood(x, alpha):\n",
    "    dir_ = dirichlet(alpha)\n",
    "    y = closure(x)\n",
    "    return np.mean([dir_.logpdf(y[i]) for i in range(y.shape[0])])\n",
    "\n",
    "def dirichlet_likelihood2(x, alpha):\n",
    "    y = closure(x)\n",
    "    return np.mean([dirichlet(alpha[i]).logpdf(y[i]) for i in range(y.shape[0])])\n",
    "\n",
    "def sample_multinomial(n, p):\n",
    "    return np.vstack([np.random.multinomial(n[i], p[i]) for i in range(p.shape[0])])\n",
    "\n",
    "def logit_normal_logpdf(x, mean, cov):\n",
    "    y = ilr(x)\n",
    "    diff = y - mean\n",
    "    prec = np.linalg.inv(cov)\n",
    "    psd = _PSD(cov, allow_singular=False)\n",
    "    prec_U = psd.U\n",
    "    log_det_cov = psd.log_pdet\n",
    "    maha = np.sum(np.square(np.dot(diff, prec_U)), axis=-1)\n",
    "    logx = np.log(x).sum()\n",
    "    d = prec_U.shape[0]\n",
    "    logp = (-0.5) * (_LOG_2PI + log_det_cov + maha) - logx\n",
    "    return logp\n",
    "\n",
    "def logit_normal_likelihood(x, mean, cov):\n",
    "    return np.mean([logit_normal_logpdf(x[i], mean, cov) for i in range(x.shape[0])])\n",
    "    \n",
    "def logit_div_dir_logpdf(x, alpha, mean, cov):\n",
    "    mvn_ = multivariate_normal(mean, cov)\n",
    "    dir_ = dirichlet(alpha)\n",
    "    #logln = np.vstack([logit_normal_logpdf(x[i], mean, cov) for i in range(x.shape[0])])\n",
    "    logln = np.vstack([mvn_.logpdf(ilr(x[i])) for i in range(x.shape[0])])\n",
    "    y = closure(x)\n",
    "    logdir = np.vstack([dir_.logpdf(y[i]) for i in range(y.shape[0])])\n",
    "    return logln - logdir    \n",
    "\n",
    "\n",
    "def logit_div_dir_logpdf2(x, eta, alpha, mean, cov):\n",
    "    mvn_ = multivariate_normal(mean, cov)\n",
    "    #logln = np.vstack([logit_normal_logpdf(x[i], mean, cov) for i in range(x.shape[0])])\n",
    "    logln = np.vstack([mvn_.logpdf(ilr(eta[i])) for i in range(x.shape[0])])\n",
    "    y = closure(x)\n",
    "    e = closure(eta)\n",
    "    logdir = np.vstack([dirichlet(e[i]).logpdf(y[i]) for i in range(y.shape[0])])\n",
    "    return logln - logdir    \n"
   ]
  },
  {
   "cell_type": "code",
   "execution_count": 3,
   "metadata": {},
   "outputs": [],
   "source": [
    "d = 5\n",
    "n = 1000\n",
    "mean = np.ones(d - 1)\n",
    "cov = np.diag(np.ones(d - 1))\n",
    "alpha = np.ones(d)\n",
    "N = np.ones(n) * 1000000"
   ]
  },
  {
   "cell_type": "markdown",
   "metadata": {},
   "source": [
    "Estimate mean of of multinomial logistic normal"
   ]
  },
  {
   "cell_type": "code",
   "execution_count": 4,
   "metadata": {},
   "outputs": [
    {
     "data": {
      "text/plain": [
       "-27.440905723592266"
      ]
     },
     "execution_count": 4,
     "metadata": {},
     "output_type": "execute_result"
    }
   ],
   "source": [
    "p = sample_logistic_normal(mean, cov, samples=n)\n",
    "x = sample_multinomial(N, p)\n",
    "multinomial_logpdf(x, N, p).mean()"
   ]
  },
  {
   "cell_type": "markdown",
   "metadata": {},
   "source": [
    "Compute difference likelihood distribution\n",
    "\n",
    "Then look at samples from dirichlet multinomial"
   ]
  },
  {
   "cell_type": "code",
   "execution_count": 5,
   "metadata": {},
   "outputs": [],
   "source": [
    "eta = sample_dirichlet_multinomial(alpha, N, samples=n) \n",
    "#peta = logit_div_dir_logpdf2(x, eta, alpha, mean, cov)"
   ]
  },
  {
   "cell_type": "code",
   "execution_count": 6,
   "metadata": {},
   "outputs": [
    {
     "data": {
      "text/plain": [
       "-8.262565720412672"
      ]
     },
     "execution_count": 6,
     "metadata": {},
     "output_type": "execute_result"
    }
   ],
   "source": [
    "np.mean(logit_div_dir_logpdf2(x, eta, alpha, mean, cov))"
   ]
  },
  {
   "cell_type": "code",
   "execution_count": 7,
   "metadata": {},
   "outputs": [
    {
     "data": {
      "text/plain": [
       "<matplotlib.legend.Legend at 0x7ff64ffaa9d0>"
      ]
     },
     "execution_count": 7,
     "metadata": {},
     "output_type": "execute_result"
    },
    {
     "data": {
      "image/png": "[encoded data removed]",
      "text/plain": [
       "<Figure size 432x288 with 1 Axes>"
      ]
     },
     "metadata": {
      "needs_background": "light"
     },
     "output_type": "display_data"
    }
   ],
   "source": [
    "sns.distplot(multinomial_logpdf(x, N, p), label='MLN')\n",
    "sns.distplot(logit_div_dir_logpdf2(x, eta, alpha, mean, cov), label='DM+LD')\n",
    "plt.legend()"
   ]
  },
  {
   "cell_type": "code",
   "execution_count": null,
   "metadata": {},
   "outputs": [],
   "source": []
  },
  {
   "cell_type": "code",
   "execution_count": null,
   "metadata": {},
   "outputs": [],
   "source": []
  }
 ],
 "metadata": {
  "kernelspec": {
   "display_name": "Python 3",
   "language": "python",
   "name": "python3"
  },
  "language_info": {
   "codemirror_mode": {
    "name": "ipython",
    "version": 3
   },
   "file_extension": ".py",
   "mimetype": "text/x-python",
   "name": "python",
   "nbconvert_exporter": "python",
   "pygments_lexer": "ipython3",
   "version": "3.8.5"
  }
 },
 "nbformat": 4,
 "nbformat_minor": 4
}
